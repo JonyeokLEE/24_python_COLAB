{
  "nbformat": 4,
  "nbformat_minor": 0,
  "metadata": {
    "colab": {
      "provenance": [],
      "authorship_tag": "ABX9TyO0Z1SqqioqD47m0jn4Gz8d",
      "include_colab_link": true
    },
    "kernelspec": {
      "name": "python3",
      "display_name": "Python 3"
    },
    "language_info": {
      "name": "python"
    }
  },
  "cells": [
    {
      "cell_type": "markdown",
      "metadata": {
        "id": "view-in-github",
        "colab_type": "text"
      },
      "source": [
        "<a href=\"https://colab.research.google.com/github/JonyeokLEE/python_COLAB/blob/main/pytorch_tensor.ipynb\" target=\"_parent\"><img src=\"https://colab.research.google.com/assets/colab-badge.svg\" alt=\"Open In Colab\"/></a>"
      ]
    },
    {
      "cell_type": "code",
      "execution_count": 186,
      "metadata": {
        "colab": {
          "base_uri": "https://localhost:8080/"
        },
        "id": "1zcv5I1GRYzc",
        "outputId": "dd9652c3-cb29-43eb-c260-7f73074a89fb"
      },
      "outputs": [
        {
          "output_type": "stream",
          "name": "stdout",
          "text": [
            "tensor([[7.3514e+17, 3.2675e-41, 1.7867e+14, 3.2675e-41],\n",
            "        [1.4013e-43, 1.3312e-43, 5.6052e-44, 5.7453e-44],\n",
            "        [6.4062e-41, 4.4842e-44, 6.4331e-41, 7.6573e-41],\n",
            "        [6.9275e-41, 4.4842e-44, 9.1084e-44, 0.0000e+00],\n",
            "        [6.7616e+17, 3.2675e-41, 6.7336e+17, 3.2675e-41]])\n"
          ]
        }
      ],
      "source": [
        "#Tensor는 Pytorch의 기본 단위, GPU 연산을 가능하게 하고, Numpy의 배열과 유사\n",
        "\n",
        "import torch\n",
        "import numpy as np\n",
        "\n",
        "x = torch.empty(5,4)\n",
        "print(x)\n",
        "\n",
        "#크기가 5X4인 빈 tensor 생성, 초기화되지 않았으므로 할당된 메모리에 존재하는 값들이 초깃값"
      ]
    },
    {
      "cell_type": "code",
      "source": [
        "torch.ones(3,3) #1로 초기화 된 3X3 행렬"
      ],
      "metadata": {
        "colab": {
          "base_uri": "https://localhost:8080/"
        },
        "id": "oFOqKkS8Scdw",
        "outputId": "2650d612-604a-444a-e83b-26f663afcf5b"
      },
      "execution_count": 187,
      "outputs": [
        {
          "output_type": "execute_result",
          "data": {
            "text/plain": [
              "tensor([[1., 1., 1.],\n",
              "        [1., 1., 1.],\n",
              "        [1., 1., 1.]])"
            ]
          },
          "metadata": {},
          "execution_count": 187
        }
      ]
    },
    {
      "cell_type": "code",
      "source": [
        "torch.zeros(2) #0으로 초기화 된 2행 배열"
      ],
      "metadata": {
        "colab": {
          "base_uri": "https://localhost:8080/"
        },
        "id": "EvFW_xftSk6N",
        "outputId": "b278bed4-66ff-46e7-9660-321b48886e78"
      },
      "execution_count": 188,
      "outputs": [
        {
          "output_type": "execute_result",
          "data": {
            "text/plain": [
              "tensor([0., 0.])"
            ]
          },
          "metadata": {},
          "execution_count": 188
        }
      ]
    },
    {
      "cell_type": "code",
      "source": [
        "torch.rand(5,6) #난수로 초기화 된 5X6 행렬"
      ],
      "metadata": {
        "colab": {
          "base_uri": "https://localhost:8080/"
        },
        "id": "ptiys2a-Sy-V",
        "outputId": "a29d968c-feb0-4db1-a317-67f3ecbfe25a"
      },
      "execution_count": 189,
      "outputs": [
        {
          "output_type": "execute_result",
          "data": {
            "text/plain": [
              "tensor([[0.0793, 0.2578, 0.9895, 0.1631, 0.3829, 0.6664],\n",
              "        [0.5404, 0.3134, 0.4757, 0.4119, 0.9505, 0.8415],\n",
              "        [0.4660, 0.7429, 0.8521, 0.1201, 0.5614, 0.1891],\n",
              "        [0.5671, 0.1615, 0.2030, 0.2738, 0.3297, 0.3625],\n",
              "        [0.2018, 0.8415, 0.6921, 0.5170, 0.2789, 0.6156]])"
            ]
          },
          "metadata": {},
          "execution_count": 189
        }
      ]
    },
    {
      "cell_type": "code",
      "source": [
        "#리스트, 넘파이 배열을 텐서로 만들기\n",
        "l = [13,4] #List\n",
        "r = np.array([4,56,7]) #Numpy Array\n",
        "torch.tensor(l)"
      ],
      "metadata": {
        "colab": {
          "base_uri": "https://localhost:8080/"
        },
        "id": "nOqq87twTLkj",
        "outputId": "c7468395-ce33-44d0-ccfb-309b18b525e6"
      },
      "execution_count": 190,
      "outputs": [
        {
          "output_type": "execute_result",
          "data": {
            "text/plain": [
              "tensor([13,  4])"
            ]
          },
          "metadata": {},
          "execution_count": 190
        }
      ]
    },
    {
      "cell_type": "code",
      "source": [
        "torch.tensor(r)"
      ],
      "metadata": {
        "colab": {
          "base_uri": "https://localhost:8080/"
        },
        "id": "lLZTXpF8uoj4",
        "outputId": "e427c8d7-6451-4f8e-ec2c-007a99a8d562"
      },
      "execution_count": 191,
      "outputs": [
        {
          "output_type": "execute_result",
          "data": {
            "text/plain": [
              "tensor([ 4, 56,  7])"
            ]
          },
          "metadata": {},
          "execution_count": 191
        }
      ]
    },
    {
      "cell_type": "code",
      "source": [
        "x.size()"
      ],
      "metadata": {
        "colab": {
          "base_uri": "https://localhost:8080/"
        },
        "id": "tMqkOct8vLcy",
        "outputId": "48c64afd-4788-4240-aca4-fc6724419e8c"
      },
      "execution_count": 192,
      "outputs": [
        {
          "output_type": "execute_result",
          "data": {
            "text/plain": [
              "torch.Size([5, 4])"
            ]
          },
          "metadata": {},
          "execution_count": 192
        }
      ]
    },
    {
      "cell_type": "code",
      "source": [
        "x.size()[1]"
      ],
      "metadata": {
        "colab": {
          "base_uri": "https://localhost:8080/"
        },
        "id": "A67qF4J1w5sM",
        "outputId": "7bc812b2-1994-429d-8078-4f4ae7969fdf"
      },
      "execution_count": 193,
      "outputs": [
        {
          "output_type": "execute_result",
          "data": {
            "text/plain": [
              "4"
            ]
          },
          "metadata": {},
          "execution_count": 193
        }
      ]
    },
    {
      "cell_type": "code",
      "source": [
        "x.size(1)"
      ],
      "metadata": {
        "colab": {
          "base_uri": "https://localhost:8080/"
        },
        "id": "FcyOXK9XxCds",
        "outputId": "ef48bae8-ddd2-495a-8f9b-5bf2b760caba"
      },
      "execution_count": 194,
      "outputs": [
        {
          "output_type": "execute_result",
          "data": {
            "text/plain": [
              "4"
            ]
          },
          "metadata": {},
          "execution_count": 194
        }
      ]
    },
    {
      "cell_type": "code",
      "source": [
        "type(x)"
      ],
      "metadata": {
        "colab": {
          "base_uri": "https://localhost:8080/"
        },
        "id": "xyN-vra_xG1D",
        "outputId": "a655bc40-3159-4c19-e80a-04769c42b554"
      },
      "execution_count": 195,
      "outputs": [
        {
          "output_type": "execute_result",
          "data": {
            "text/plain": [
              "torch.Tensor"
            ]
          },
          "metadata": {},
          "execution_count": 195
        }
      ]
    },
    {
      "cell_type": "code",
      "source": [
        "x=torch.rand(2,2)\n",
        "y=torch.rand(2,2) #2X2 랜덤 행렬\n",
        "\n",
        "x+y"
      ],
      "metadata": {
        "colab": {
          "base_uri": "https://localhost:8080/"
        },
        "id": "7GJlaDr2xJMC",
        "outputId": "f5587d3c-fcc6-4df5-b2b0-356d98ae6c7f"
      },
      "execution_count": 196,
      "outputs": [
        {
          "output_type": "execute_result",
          "data": {
            "text/plain": [
              "tensor([[1.6526, 0.8373],\n",
              "        [0.8719, 0.7771]])"
            ]
          },
          "metadata": {},
          "execution_count": 196
        }
      ]
    },
    {
      "cell_type": "code",
      "source": [
        "torch.add(x,y)"
      ],
      "metadata": {
        "colab": {
          "base_uri": "https://localhost:8080/"
        },
        "id": "5vOkoi9axVBr",
        "outputId": "f85b813f-37eb-4558-fe76-dba61e24b2d6"
      },
      "execution_count": 197,
      "outputs": [
        {
          "output_type": "execute_result",
          "data": {
            "text/plain": [
              "tensor([[1.6526, 0.8373],\n",
              "        [0.8719, 0.7771]])"
            ]
          },
          "metadata": {},
          "execution_count": 197
        }
      ]
    },
    {
      "cell_type": "code",
      "source": [
        "y.add(x)"
      ],
      "metadata": {
        "colab": {
          "base_uri": "https://localhost:8080/"
        },
        "id": "pmRqz2JrxY4i",
        "outputId": "ede124d1-a2a0-4a0e-b581-85b42c561ca1"
      },
      "execution_count": 198,
      "outputs": [
        {
          "output_type": "execute_result",
          "data": {
            "text/plain": [
              "tensor([[1.6526, 0.8373],\n",
              "        [0.8719, 0.7771]])"
            ]
          },
          "metadata": {},
          "execution_count": 198
        }
      ]
    },
    {
      "cell_type": "code",
      "source": [
        "y.add_(x) #add()와 다르게 add_()는 더해서 y를 update\n",
        "y"
      ],
      "metadata": {
        "colab": {
          "base_uri": "https://localhost:8080/"
        },
        "id": "rrM7U-6wxb2-",
        "outputId": "5a9bc4c0-b568-4fa1-b4df-d40fb7650abf"
      },
      "execution_count": 199,
      "outputs": [
        {
          "output_type": "execute_result",
          "data": {
            "text/plain": [
              "tensor([[1.6526, 0.8373],\n",
              "        [0.8719, 0.7771]])"
            ]
          },
          "metadata": {},
          "execution_count": 199
        }
      ]
    },
    {
      "cell_type": "code",
      "source": [
        "x=torch.rand(8,8)\n",
        "x.size()"
      ],
      "metadata": {
        "colab": {
          "base_uri": "https://localhost:8080/"
        },
        "id": "xiz_9BOUxnRq",
        "outputId": "af060c46-6cde-4dda-b407-0772460ffad3"
      },
      "execution_count": 200,
      "outputs": [
        {
          "output_type": "execute_result",
          "data": {
            "text/plain": [
              "torch.Size([8, 8])"
            ]
          },
          "metadata": {},
          "execution_count": 200
        }
      ]
    },
    {
      "cell_type": "code",
      "source": [
        "a=x.view(64) #8X8 -> 64\n",
        "a.size()"
      ],
      "metadata": {
        "colab": {
          "base_uri": "https://localhost:8080/"
        },
        "id": "i_NZrdfoxvNc",
        "outputId": "1dad8828-afb6-48c5-946e-252ed8d9dce3"
      },
      "execution_count": 201,
      "outputs": [
        {
          "output_type": "execute_result",
          "data": {
            "text/plain": [
              "torch.Size([64])"
            ]
          },
          "metadata": {},
          "execution_count": 201
        }
      ]
    },
    {
      "cell_type": "code",
      "source": [
        "x.size()"
      ],
      "metadata": {
        "colab": {
          "base_uri": "https://localhost:8080/"
        },
        "id": "C61KHDqayONT",
        "outputId": "9f3b576a-3712-4381-93cd-9b8d5eb01c2f"
      },
      "execution_count": 202,
      "outputs": [
        {
          "output_type": "execute_result",
          "data": {
            "text/plain": [
              "torch.Size([8, 8])"
            ]
          },
          "metadata": {},
          "execution_count": 202
        }
      ]
    },
    {
      "cell_type": "code",
      "source": [
        "b=x.view(-1,4,4) #-1은 원래 크기가 되게 하는 값 / 8X8 -> -1X4X4 = 4X4X4\n",
        "b.size()"
      ],
      "metadata": {
        "colab": {
          "base_uri": "https://localhost:8080/"
        },
        "id": "GE3nnkgvyQJd",
        "outputId": "43b651a9-d01f-4733-da03-261069bfa514"
      },
      "execution_count": 203,
      "outputs": [
        {
          "output_type": "execute_result",
          "data": {
            "text/plain": [
              "torch.Size([4, 4, 4])"
            ]
          },
          "metadata": {},
          "execution_count": 203
        }
      ]
    },
    {
      "cell_type": "code",
      "source": [
        "x=torch.rand(8,8)\n",
        "y=x.numpy()\n",
        "type(y) #Tensor에서 Numpy Array로 변환"
      ],
      "metadata": {
        "colab": {
          "base_uri": "https://localhost:8080/"
        },
        "id": "oC3RsIV_y9FR",
        "outputId": "e12c036c-e630-4d90-d8d4-14688cc39f5f"
      },
      "execution_count": 204,
      "outputs": [
        {
          "output_type": "execute_result",
          "data": {
            "text/plain": [
              "numpy.ndarray"
            ]
          },
          "metadata": {},
          "execution_count": 204
        }
      ]
    },
    {
      "cell_type": "code",
      "source": [
        "x=torch.ones(1)\n",
        "print(x.item())\n",
        "\n",
        "#.item()은 손실 함숫값과 같이 숫자가 하나인 텐서를 텐서가 아닌 값으로 만들어준다."
      ],
      "metadata": {
        "colab": {
          "base_uri": "https://localhost:8080/"
        },
        "id": "pCCH_O38zLff",
        "outputId": "a57509b0-af44-484e-c84b-4e805b246003"
      },
      "execution_count": 205,
      "outputs": [
        {
          "output_type": "stream",
          "name": "stdout",
          "text": [
            "1.0\n"
          ]
        }
      ]
    }
  ]
}