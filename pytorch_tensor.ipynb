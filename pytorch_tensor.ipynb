{
  "nbformat": 4,
  "nbformat_minor": 0,
  "metadata": {
    "colab": {
      "provenance": [],
      "gpuType": "T4",
      "authorship_tag": "ABX9TyN32N9yW+lnfVI1zvXkMAcK",
      "include_colab_link": true
    },
    "kernelspec": {
      "name": "python3",
      "display_name": "Python 3"
    },
    "language_info": {
      "name": "python"
    },
    "accelerator": "GPU"
  },
  "cells": [
    {
      "cell_type": "markdown",
      "metadata": {
        "id": "view-in-github",
        "colab_type": "text"
      },
      "source": [
        "<a href=\"https://colab.research.google.com/github/JonyeokLEE/python_COLAB/blob/main/pytorch_tensor.ipynb\" target=\"_parent\"><img src=\"https://colab.research.google.com/assets/colab-badge.svg\" alt=\"Open In Colab\"/></a>"
      ]
    },
    {
      "cell_type": "code",
      "execution_count": 16,
      "metadata": {
        "colab": {
          "base_uri": "https://localhost:8080/"
        },
        "id": "1zcv5I1GRYzc",
        "outputId": "8895e6d3-2bd6-4c5c-8240-a88fa6fbe565"
      },
      "outputs": [
        {
          "output_type": "stream",
          "name": "stdout",
          "text": [
            "tensor([[-9.6198e-04,  4.5502e-41,  1.3228e-08,  3.2908e-41],\n",
            "        [ 1.4013e-45,  0.0000e+00,  1.3241e-08,  3.2908e-41],\n",
            "        [ 1.4690e-08,  3.2908e-41,  0.0000e+00,  0.0000e+00],\n",
            "        [ 1.4368e-08,  3.2908e-41,  1.4385e-09,  3.2908e-41],\n",
            "        [-6.6309e+22,  4.5500e-41,  0.0000e+00,  0.0000e+00]])\n"
          ]
        }
      ],
      "source": [
        "#Tensor는 Pytorch의 기본 단위, GPU 연산을 가능하게 하고, Numpy의 배열과 유사\n",
        "\n",
        "import torch\n",
        "import numpy as np\n",
        "\n",
        "x = torch.empty(5,4)\n",
        "print(x)\n",
        "\n",
        "#크기가 5X4인 빈 tensor 생성, 초기화되지 않았으므로 할당된 메모리에 존재하는 값들이 초깃값"
      ]
    },
    {
      "cell_type": "code",
      "source": [
        "torch.ones(3,3) #1로 초기화 된 3X3 행렬"
      ],
      "metadata": {
        "colab": {
          "base_uri": "https://localhost:8080/"
        },
        "id": "oFOqKkS8Scdw",
        "outputId": "869bcf82-2a22-467e-c916-de06da571b29"
      },
      "execution_count": 17,
      "outputs": [
        {
          "output_type": "execute_result",
          "data": {
            "text/plain": [
              "tensor([[1., 1., 1.],\n",
              "        [1., 1., 1.],\n",
              "        [1., 1., 1.]])"
            ]
          },
          "metadata": {},
          "execution_count": 17
        }
      ]
    },
    {
      "cell_type": "code",
      "source": [
        "torch.zeros(2) #0으로 초기화 된 2행 배열"
      ],
      "metadata": {
        "colab": {
          "base_uri": "https://localhost:8080/"
        },
        "id": "EvFW_xftSk6N",
        "outputId": "79822380-ea01-44b4-9fb6-a7601757fb27"
      },
      "execution_count": 18,
      "outputs": [
        {
          "output_type": "execute_result",
          "data": {
            "text/plain": [
              "tensor([0., 0.])"
            ]
          },
          "metadata": {},
          "execution_count": 18
        }
      ]
    },
    {
      "cell_type": "code",
      "source": [
        "torch.rand(5,6) #난수로 초기화 된 5X6 행렬"
      ],
      "metadata": {
        "colab": {
          "base_uri": "https://localhost:8080/"
        },
        "id": "ptiys2a-Sy-V",
        "outputId": "71f2d47a-1648-4ed1-8f38-1c208c22ea7b"
      },
      "execution_count": 19,
      "outputs": [
        {
          "output_type": "execute_result",
          "data": {
            "text/plain": [
              "tensor([[0.0220, 0.8199, 0.9795, 0.8738, 0.5116, 0.0376],\n",
              "        [0.1760, 0.7849, 0.1879, 0.6978, 0.1757, 0.1725],\n",
              "        [0.6376, 0.1105, 0.5249, 0.1855, 0.7697, 0.1322],\n",
              "        [0.4002, 0.2815, 0.5780, 0.6718, 0.9188, 0.6159],\n",
              "        [0.9299, 0.5136, 0.6301, 0.5383, 0.5729, 0.2995]])"
            ]
          },
          "metadata": {},
          "execution_count": 19
        }
      ]
    },
    {
      "cell_type": "code",
      "source": [
        "#리스트, 넘파이 배열을 텐서로 만들기\n",
        "l = [13,4]\n",
        "r = np.array([4,56,7])\n",
        "torch.tensor(l)"
      ],
      "metadata": {
        "colab": {
          "base_uri": "https://localhost:8080/"
        },
        "id": "nOqq87twTLkj",
        "outputId": "998e9a9a-d832-464f-d89a-a299702c8b9c"
      },
      "execution_count": 20,
      "outputs": [
        {
          "output_type": "execute_result",
          "data": {
            "text/plain": [
              "tensor([13,  4])"
            ]
          },
          "metadata": {},
          "execution_count": 20
        }
      ]
    }
  ]
}