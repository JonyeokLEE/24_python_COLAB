{
  "nbformat": 4,
  "nbformat_minor": 0,
  "metadata": {
    "colab": {
      "provenance": [],
      "authorship_tag": "ABX9TyNskrwSJXzH79+0e2wlK0hN",
      "include_colab_link": true
    },
    "kernelspec": {
      "name": "python3",
      "display_name": "Python 3"
    },
    "language_info": {
      "name": "python"
    }
  },
  "cells": [
    {
      "cell_type": "markdown",
      "metadata": {
        "id": "view-in-github",
        "colab_type": "text"
      },
      "source": [
        "<a href=\"https://colab.research.google.com/github/JonyeokLEE/python_COLAB/blob/main/Supervised_Learning.ipynb\" target=\"_parent\"><img src=\"https://colab.research.google.com/assets/colab-badge.svg\" alt=\"Open In Colab\"/></a>"
      ]
    },
    {
      "cell_type": "code",
      "execution_count": 1,
      "metadata": {
        "colab": {
          "base_uri": "https://localhost:8080/",
          "height": 53
        },
        "id": "7-4rDfDB_yWT",
        "outputId": "5cab0a3c-153b-46c2-b6c7-3a6bb656d470"
      },
      "outputs": [
        {
          "output_type": "execute_result",
          "data": {
            "text/plain": [
              "\"\\n지도학습은 좋은 모델을 만들기 위해 학습 과정에서 데이터를 이용한 예측값과 실제값을 맞춰보는 과정이 핵심구조\\n\\n데이터에 대응하는 Label이라는 실제 정답이 있다.\\n모델은 '가중치'와 '편향'을 정하여 예측값을 산출 -> 지도학습의 목표는\\n\""
            ],
            "application/vnd.google.colaboratory.intrinsic+json": {
              "type": "string"
            }
          },
          "metadata": {},
          "execution_count": 1
        }
      ],
      "source": [
        "'''\n",
        "지도학습은 좋은 모델을 만들기 위해 학습 과정에서 데이터를 이용한 예측값과 실제값을 맞춰보는 과정이 핵심구조\n",
        "\n",
        "데이터에 대응하는 Label이라는 실제 정답이 있다.\n",
        "모델은 '가중치'와 '편향'을 정하여 예측값을 산출 -> 지도학습의 목표는 학습을 통해 적절한 모델의 가중치와 편향을 찾는 것.\n",
        "\n",
        "처음 학습을 할 때에는 무작위로 가중치와 편향을 정하여 예측값을 산출 -> 예측값이 얼마나 중요한지 판단해야 함.\n",
        "\n",
        "이 때 사용되는 것이 '손실함수'\n",
        "손실함수는 실제값과 예측값이 얼마나 차이가 나는지 측정하는 척도 -> 문제에 따라 적절한 손실함수를 정해주는 것이 중요\n",
        "일반적으로 손실함수값이 작다는 의미는 실제값과 예측값의 차이가 작다는 뜻.\n",
        "'''"
      ]
    }
  ]
}