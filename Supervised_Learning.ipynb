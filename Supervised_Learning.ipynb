{
  "nbformat": 4,
  "nbformat_minor": 0,
  "metadata": {
    "colab": {
      "provenance": [],
      "authorship_tag": "ABX9TyOb+52D/0Bm8+voFFkuKrp8",
      "include_colab_link": true
    },
    "kernelspec": {
      "name": "python3",
      "display_name": "Python 3"
    },
    "language_info": {
      "name": "python"
    }
  },
  "cells": [
    {
      "cell_type": "markdown",
      "metadata": {
        "id": "view-in-github",
        "colab_type": "text"
      },
      "source": [
        "<a href=\"https://colab.research.google.com/github/JonyeokLEE/python_COLAB/blob/main/Supervised_Learning.ipynb\" target=\"_parent\"><img src=\"https://colab.research.google.com/assets/colab-badge.svg\" alt=\"Open In Colab\"/></a>"
      ]
    },
    {
      "cell_type": "code",
      "execution_count": 2,
      "metadata": {
        "colab": {
          "base_uri": "https://localhost:8080/",
          "height": 90
        },
        "id": "7-4rDfDB_yWT",
        "outputId": "9dc56d1e-c9e8-47e3-bc72-3aee461ed8c7"
      },
      "outputs": [
        {
          "output_type": "execute_result",
          "data": {
            "text/plain": [
              "\"\\n지도학습은 좋은 모델을 만들기 위해 학습 과정에서 데이터를 이용한 예측값과 실제값을 맞춰보는 과정이 핵심구조\\n\\n데이터에 대응하는 Label이라는 실제 정답이 있다.\\n모델은 '가중치'와 '편향'을 정하여 예측값을 산출 -> 지도학습의 목표는 학습을 통해 적절한 모델의 가중치와 편향을 찾는 것.\\n\\n처음 학습을 할 때에는 무작위로 가중치와 편향을 정하여 예측값을 산출 -> 예측값이 얼마나 정확한지 판단해야 함.\\n\\n이 때 사용되는 것이 '손실함수'\\n손실함수는 실제값과 예측값이 얼마나 차이가 나는지 측정하는 척도 -> 문제에 따라 적절한 손실함수를 정해주는 것이 중요\\n일반적으로 손실함수값이 작다는 의미는 실제값과 예측값의 차이가 작다는 뜻. 반대로 크면 학습이 효과적이지 않다는 뜻.\\n\\n그래서 값이 크면 최적화를 하게 됨 -> 미분 계산으로 구성된 역전파를 통해 손실 함수의 최소 지점을 찾게 됨.\\n\""
            ],
            "application/vnd.google.colaboratory.intrinsic+json": {
              "type": "string"
            }
          },
          "metadata": {},
          "execution_count": 2
        }
      ],
      "source": [
        "'''\n",
        "지도학습은 좋은 모델을 만들기 위해 학습 과정에서 데이터를 이용한 예측값과 실제값을 맞춰보는 과정이 핵심구조\n",
        "\n",
        "데이터에 대응하는 Label이라는 실제 정답이 있다.\n",
        "모델은 '가중치'와 '편향'을 정하여 예측값을 산출 -> 지도학습의 목표는 학습을 통해 적절한 모델의 가중치와 편향을 찾는 것.\n",
        "\n",
        "처음 학습을 할 때에는 무작위로 가중치와 편향을 정하여 예측값을 산출 -> 예측값이 얼마나 정확한지 판단해야 함.\n",
        "\n",
        "이 때 사용되는 것이 '손실함수'\n",
        "손실함수는 실제값과 예측값이 얼마나 차이가 나는지 측정하는 척도 -> 문제에 따라 적절한 손실함수를 정해주는 것이 중요\n",
        "일반적으로 손실함수값이 작다는 의미는 실제값과 예측값의 차이가 작다는 뜻. 반대로 크면 학습이 효과적이지 않다는 뜻.\n",
        "\n",
        "그래서 값이 크면 최적화를 하게 됨 -> 미분 계산으로 구성된 역전파를 통해 손실 함수의 최소 지점을 찾게 됨.\n",
        "'''"
      ]
    },
    {
      "cell_type": "code",
      "source": [],
      "metadata": {
        "id": "mwth1Z_uP7dR"
      },
      "execution_count": 2,
      "outputs": []
    },
    {
      "cell_type": "code",
      "source": [
        "#데이터 정의\n",
        "train_data = ...\n",
        "train_loader = ...\n",
        "\n",
        "#반복 학습\n",
        "for epoch in range(num_epochs): #전체 데이터에 대한 반복 학습\n",
        "  for inputs, labels in train_loader: #입력값과 실제값 - 배치 데이터\n",
        "    #... 중략 ...\n",
        "    optimizer.zero_grad() #최적화 초기화\n",
        "    outputs = model(inputs) #예측값 산출\n",
        "    loss = criterion(outputs,labels) #손실 함수 기준으로 역전파 설정\n",
        "    optimizer.step() #모델 가중치 업데이트\n",
        "\n",
        "    #... 중략 ..."
      ],
      "metadata": {
        "colab": {
          "base_uri": "https://localhost:8080/",
          "height": 256
        },
        "id": "lHGyGtVcMpG5",
        "outputId": "02539e0a-ffd6-4bdc-cf4c-15917bdff152"
      },
      "execution_count": 3,
      "outputs": [
        {
          "output_type": "error",
          "ename": "NameError",
          "evalue": "ignored",
          "traceback": [
            "\u001b[0;31m---------------------------------------------------------------------------\u001b[0m",
            "\u001b[0;31mNameError\u001b[0m                                 Traceback (most recent call last)",
            "\u001b[0;32m<ipython-input-3-62e976a68dc9>\u001b[0m in \u001b[0;36m<cell line: 6>\u001b[0;34m()\u001b[0m\n\u001b[1;32m      4\u001b[0m \u001b[0;34m\u001b[0m\u001b[0m\n\u001b[1;32m      5\u001b[0m \u001b[0;31m#반복 학습\u001b[0m\u001b[0;34m\u001b[0m\u001b[0;34m\u001b[0m\u001b[0m\n\u001b[0;32m----> 6\u001b[0;31m \u001b[0;32mfor\u001b[0m \u001b[0mepoch\u001b[0m \u001b[0;32min\u001b[0m \u001b[0mrange\u001b[0m\u001b[0;34m(\u001b[0m\u001b[0mnum_epochs\u001b[0m\u001b[0;34m)\u001b[0m\u001b[0;34m:\u001b[0m \u001b[0;31m#전체 데이터에 대한 반복 학습\u001b[0m\u001b[0;34m\u001b[0m\u001b[0;34m\u001b[0m\u001b[0m\n\u001b[0m\u001b[1;32m      7\u001b[0m   \u001b[0;32mfor\u001b[0m \u001b[0minputs\u001b[0m\u001b[0;34m,\u001b[0m \u001b[0mlabels\u001b[0m \u001b[0;32min\u001b[0m \u001b[0mtrain_loader\u001b[0m\u001b[0;34m:\u001b[0m \u001b[0;31m#입력값과 실제값 - 배치 데이터\u001b[0m\u001b[0;34m\u001b[0m\u001b[0;34m\u001b[0m\u001b[0m\n\u001b[1;32m      8\u001b[0m     \u001b[0;31m#... 중략 ...\u001b[0m\u001b[0;34m\u001b[0m\u001b[0;34m\u001b[0m\u001b[0m\n",
            "\u001b[0;31mNameError\u001b[0m: name 'num_epochs' is not defined"
          ]
        }
      ]
    },
    {
      "cell_type": "markdown",
      "source": [
        "'''\n",
        "지도 학습 문제 중 회귀 문제와 분류 문제가 있다.\n",
        "\n",
        "회귀 문제는 예측값 / 분류 문제는 분류\n",
        "'''"
      ],
      "metadata": {
        "id": "X0X6zhhhNnTp"
      }
    }
  ]
}