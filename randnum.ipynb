{
  "nbformat": 4,
  "nbformat_minor": 0,
  "metadata": {
    "colab": {
      "provenance": [],
      "gpuType": "T4",
      "authorship_tag": "ABX9TyOSprlMxx+1/fqtUP8ue5vu",
      "include_colab_link": true
    },
    "kernelspec": {
      "name": "python3",
      "display_name": "Python 3"
    },
    "language_info": {
      "name": "python"
    },
    "accelerator": "GPU"
  },
  "cells": [
    {
      "cell_type": "markdown",
      "metadata": {
        "id": "view-in-github",
        "colab_type": "text"
      },
      "source": [
        "<a href=\"https://colab.research.google.com/github/JonyeokLEE/python_COLAB/blob/main/randnum.ipynb\" target=\"_parent\"><img src=\"https://colab.research.google.com/assets/colab-badge.svg\" alt=\"Open In Colab\"/></a>"
      ]
    },
    {
      "cell_type": "code",
      "execution_count": 9,
      "metadata": {
        "colab": {
          "base_uri": "https://localhost:8080/"
        },
        "id": "NgSm2fNCsE4I",
        "outputId": "76799f38-006f-4302-de34-7d445e432474"
      },
      "outputs": [
        {
          "output_type": "stream",
          "name": "stdout",
          "text": [
            "tf.Tensor([0.57630444], shape=(1,), dtype=float32)\n"
          ]
        }
      ],
      "source": [
        "import tensorflow as tf\n",
        "\n",
        "rand = tf.random.uniform([1],0,1) #(shape(row,col), min_num, max_num)\n",
        "print(rand)"
      ]
    },
    {
      "cell_type": "code",
      "source": [
        "rand = tf.random.uniform([4],0,1) #(shape(row,col), min_num, max_num)\n",
        "print(rand)\n",
        "\n",
        "# uniform -> 균일분포: 최솟값과 최댓값 사이에서만 나옴\n",
        "# normal -> 정규분포: 마치 시험 성적이나 키처럼 종형 곡선을 그리며 나타남"
      ],
      "metadata": {
        "colab": {
          "base_uri": "https://localhost:8080/"
        },
        "id": "Q8suCc3ftkQ5",
        "outputId": "e4adc5ca-c86f-4087-c679-4c107cecc6f8"
      },
      "execution_count": 10,
      "outputs": [
        {
          "output_type": "stream",
          "name": "stdout",
          "text": [
            "tf.Tensor([0.368052   0.14163017 0.9839088  0.3491888 ], shape=(4,), dtype=float32)\n"
          ]
        }
      ]
    },
    {
      "cell_type": "code",
      "source": [
        "rand = tf.random.normal([4],0,1) #(shape(row,col), min_num, max_num)\n",
        "print(rand)"
      ],
      "metadata": {
        "colab": {
          "base_uri": "https://localhost:8080/"
        },
        "id": "uZgQvgU9t7mW",
        "outputId": "3dd1a6b1-3d2f-48e6-bf0f-e5b61d6c2729"
      },
      "execution_count": 11,
      "outputs": [
        {
          "output_type": "stream",
          "name": "stdout",
          "text": [
            "tf.Tensor([-0.8477163  -0.4221131  -0.6844538   0.21724588], shape=(4,), dtype=float32)\n"
          ]
        }
      ]
    }
  ]
}