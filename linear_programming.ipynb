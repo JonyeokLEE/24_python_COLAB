{
  "nbformat": 4,
  "nbformat_minor": 0,
  "metadata": {
    "colab": {
      "provenance": [],
      "authorship_tag": "ABX9TyPD0RsVxssbWFkkZYzhN2Ge",
      "include_colab_link": true
    },
    "kernelspec": {
      "name": "python3",
      "display_name": "Python 3"
    },
    "language_info": {
      "name": "python"
    }
  },
  "cells": [
    {
      "cell_type": "markdown",
      "metadata": {
        "id": "view-in-github",
        "colab_type": "text"
      },
      "source": [
        "<a href=\"https://colab.research.google.com/github/JonyeokLEE/python_COLAB/blob/main/linear_programming.ipynb\" target=\"_parent\"><img src=\"https://colab.research.google.com/assets/colab-badge.svg\" alt=\"Open In Colab\"/></a>"
      ]
    },
    {
      "cell_type": "markdown",
      "source": [
        "선형계획법\n",
        "\n",
        "Maximize 3x+4y\n",
        "Subject to\n",
        "x+4y<=1700\n",
        "2x+3y<=1400\n",
        "2x+y<=1000\n",
        "x>=0 / y>=0        "
      ],
      "metadata": {
        "id": "YU14SjEqLqUv"
      }
    },
    {
      "cell_type": "code",
      "source": [
        "import numpy as np\n",
        "from scipy import optimize"
      ],
      "metadata": {
        "id": "eCKwqj66MrEo"
      },
      "execution_count": 5,
      "outputs": []
    },
    {
      "cell_type": "code",
      "source": [
        "c=np.array([-3,-4],dtype=np.float64)\n",
        "G=np.array([[1,4],[2,3],[2,1]],dtype=np.float64)\n",
        "h=np.array([1700,1400,1000], dtype=np.float64)\n",
        "sol=optimize.linprog(c,A_ub=G,b_ub=h,bounds=(0,None))"
      ],
      "metadata": {
        "id": "aVLwVAv3NUdx"
      },
      "execution_count": 6,
      "outputs": []
    },
    {
      "cell_type": "code",
      "source": [
        "print(sol.x)\n",
        "print(sol.fun)"
      ],
      "metadata": {
        "colab": {
          "base_uri": "https://localhost:8080/"
        },
        "id": "tdVcmDO8OKV8",
        "outputId": "c3749777-0c16-4741-da6c-85599826319f"
      },
      "execution_count": 7,
      "outputs": [
        {
          "output_type": "stream",
          "name": "stdout",
          "text": [
            "[400. 200.]\n",
            "-1999.9999999999998\n"
          ]
        }
      ]
    }
  ]
}