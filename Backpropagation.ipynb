{
  "nbformat": 4,
  "nbformat_minor": 0,
  "metadata": {
    "colab": {
      "provenance": [],
      "authorship_tag": "ABX9TyMj9xjIqvkfhAlX2n/QA7kE",
      "include_colab_link": true
    },
    "kernelspec": {
      "name": "python3",
      "display_name": "Python 3"
    },
    "language_info": {
      "name": "python"
    }
  },
  "cells": [
    {
      "cell_type": "markdown",
      "metadata": {
        "id": "view-in-github",
        "colab_type": "text"
      },
      "source": [
        "<a href=\"https://colab.research.google.com/github/JonyeokLEE/python_COLAB/blob/main/Backpropagation.ipynb\" target=\"_parent\"><img src=\"https://colab.research.google.com/assets/colab-badge.svg\" alt=\"Open In Colab\"/></a>"
      ]
    },
    {
      "cell_type": "code",
      "execution_count": 46,
      "metadata": {
        "colab": {
          "base_uri": "https://localhost:8080/"
        },
        "id": "jP7O2bNqzkKg",
        "outputId": "872e5501-1a7a-4f8f-ebd9-9e60b91deff7"
      },
      "outputs": [
        {
          "output_type": "stream",
          "name": "stdout",
          "text": [
            "Result:  tensor(8., grad_fn=<MeanBackward0>)\n"
          ]
        }
      ],
      "source": [
        "import torch\n",
        "\n",
        "x = torch.ones(2,2,requires_grad = True)\n",
        "y = x + 1\n",
        "z = 2*y**2\n",
        "r = z.mean()\n",
        "\n",
        "print(\"Result: \",r)\n",
        "\n",
        "\n",
        "# requires_grad = True: 해당 Tensor를 기준으로 모든 연산을 추적하여 Gradient라고 하는 미분값의 모임(배열)을 계산할 수 있게 한다.\n",
        "# 즉, x에 대하여 미분이 가능하다는 뜻이다.\n",
        "\n",
        "# 그 후 합성 함수의 개념으로써 최종 함수 r은 x에 대해서 표현 및 미분이 가능하다.\n",
        "\n",
        "# y와 z는 일련의 계산과정이기 때문에, 이들을 x에 대해서 미분을 하려고 하면 오류가 난다."
      ]
    },
    {
      "cell_type": "code",
      "source": [
        "print(x)\n",
        "print(x.grad)\n",
        "r.backward() # r을 기준으로 역전파를 진행. dr/dx = x + 1를 계산한다.\n",
        "print(x.grad) # x + 1"
      ],
      "metadata": {
        "colab": {
          "base_uri": "https://localhost:8080/"
        },
        "id": "khU28g_n96f0",
        "outputId": "47a8fa5f-2e96-492c-fd38-6f529520d666"
      },
      "execution_count": 47,
      "outputs": [
        {
          "output_type": "stream",
          "name": "stdout",
          "text": [
            "tensor([[1., 1.],\n",
            "        [1., 1.]], requires_grad=True)\n",
            "None\n",
            "tensor([[2., 2.],\n",
            "        [2., 2.]])\n"
          ]
        }
      ]
    },
    {
      "cell_type": "code",
      "source": [
        "#선형회귀식\n",
        "\n",
        "import torch\n",
        "from matplotlib import pyplot as plt\n",
        "\n",
        "x = torch.FloatTensor(range(5)).unsqueeze(1) #.unsqueeze를 통해 행렬 계산을 위한 2차원 배열 만들기 가능\n",
        "y = 2*x + torch.rand(5,1) #실제 값으로 임의의 5개를 만들어준다.\n",
        "#일변수 데이터를 생성, 즉 (x,y)인 형태로 2차원 상에서 표현이 가능\n",
        "num_features = x.shape[1] #변수의 개수(5)를 저장한 변수"
      ],
      "metadata": {
        "id": "tdXQZoZd_9E0"
      },
      "execution_count": 48,
      "outputs": []
    },
    {
      "cell_type": "code",
      "source": [
        "x"
      ],
      "metadata": {
        "colab": {
          "base_uri": "https://localhost:8080/"
        },
        "id": "XTAjYL81AARt",
        "outputId": "36053c5a-1f14-4aaf-9aa3-1b54a363bf67"
      },
      "execution_count": 49,
      "outputs": [
        {
          "output_type": "execute_result",
          "data": {
            "text/plain": [
              "tensor([[0.],\n",
              "        [1.],\n",
              "        [2.],\n",
              "        [3.],\n",
              "        [4.]])"
            ]
          },
          "metadata": {},
          "execution_count": 49
        }
      ]
    },
    {
      "cell_type": "code",
      "source": [
        "w = torch.randn(num_features,1,requires_grad=True)\n",
        "b = torch.randn(1,requires_grad=True)"
      ],
      "metadata": {
        "id": "31rlgfpnBIM6"
      },
      "execution_count": 50,
      "outputs": []
    },
    {
      "cell_type": "markdown",
      "source": [
        "선형식은 y = wx + b로 표현된다.\n",
        "따라서 w는 5x1 데이터와 곱할 수 있어야 하며, 예측값이 하나만 나와야 하므로 1x1인 배열\n",
        "\n",
        "따라서 xw는 5x1이 됨.\n",
        "\n",
        "편향 b는 모든 인스턴스에 동일한 숫자를 더해주는 것이므로 크기가 1인 텐서로 정의"
      ],
      "metadata": {
        "id": "u5QTAXZDEKgO"
      }
    },
    {
      "cell_type": "markdown",
      "source": [
        "x랑 y는 변하지 않는 값으로써 업데이트가 필요하지 않기 때문에 require_grad = True가 없고, 반대로 w랑 b는 있다."
      ],
      "metadata": {
        "id": "xJbsBr_cHy2e"
      }
    },
    {
      "cell_type": "code",
      "source": [
        "learning_rate = 1e-3\n",
        "optimizer = torch.optim.SGD([w,b],lr=learning_rate)\n",
        "#torch.optim.SGD 내부에 변수를 리스트로 묶어 넣어주고 적절한 Learning rate를 정하여 자동으로 가중치와 편향을 업데이트"
      ],
      "metadata": {
        "id": "SEq0JkHBM9PN"
      },
      "execution_count": 51,
      "outputs": []
    },
    {
      "cell_type": "code",
      "source": [
        "loss_stack = [] # 매 epoch 마다 손실 함수값을 저장하기 위한 스택 생성\n",
        "\n",
        "for epoch in range(1001): # 학습 반복 수를 1001로\n",
        "\n",
        "  optimizer.zero_grad() # 최적화는 계산을 누적시키기 때문에 매 epoch마다 누적된 값을 optimizer.zero_grad()을 통해 초기화한다.\n",
        "  y_hat = torch.matmul(x,w)+b # 회귀식 모델을 이용하여 예측값을 산출한다.\n",
        "  loss = torch.mean((y_hat-y)**2) # 예측값과 실제값을 이용하여 손실 함수를 계산한다. (MSE 함수 이용)\n",
        "  loss.backward() # 역전파 기준을 손실 함수로 정한다.\n",
        "  optimizer.step() # 미리 정의한 optimizer를 이용하여 최적화를 시행한다.\n",
        "  loss_stack.append(loss.item()) #그래프를 그리기 위해 손실 함수값만 loss_stack에 Push\n",
        "\n",
        "  if epoch % 100 == 0: # 100 단위로 손실 함수값을 출력\n",
        "    print(f'Epoch {epoch}:{loss.item()}')\n",
        ""
      ],
      "metadata": {
        "colab": {
          "base_uri": "https://localhost:8080/"
        },
        "id": "DqS42ffcNpL9",
        "outputId": "01f97283-1223-4abd-86fc-1ab6579f5ef5"
      },
      "execution_count": 52,
      "outputs": [
        {
          "output_type": "stream",
          "name": "stdout",
          "text": [
            "Epoch 0:68.24112701416016\n",
            "Epoch 100:4.702758312225342\n",
            "Epoch 200:0.41826382279396057\n",
            "Epoch 300:0.12194371223449707\n",
            "Epoch 400:0.09488898515701294\n",
            "Epoch 500:0.0867534801363945\n",
            "Epoch 600:0.08060188591480255\n",
            "Epoch 700:0.0752146765589714\n",
            "Epoch 800:0.07043859362602234\n",
            "Epoch 900:0.06620053946971893\n",
            "Epoch 1000:0.06243940442800522\n"
          ]
        }
      ]
    },
    {
      "cell_type": "code",
      "source": [
        "with torch.no_grad():\n",
        "  y_hat = torch.matmul(x,w)+b\n",
        "# 최종 학습된 w, b로 예측값을 산출\n",
        "# 이때 최적화를 사용하지 않으므로 requires_grad를 비활성화한다.\n",
        "# with torch.no_grad(): 를 이용해서 비활성화 가능"
      ],
      "metadata": {
        "id": "FzgtWx_QQU8e"
      },
      "execution_count": 53,
      "outputs": []
    },
    {
      "cell_type": "code",
      "source": [
        "plt.figure(figsize=(10,5))\n",
        "plt.subplot(121)\n",
        "plt.plot(loss_stack)\n",
        "plt.title(\"Loss\")\n",
        "plt.subplot(122)\n",
        "plt.plot(x,y,'.b')\n",
        "plt.plot(x,y_hat,'r-')\n",
        "plt.legend(['ground truth','prediction'])\n",
        "plt.title(\"Prediction\")\n",
        "plt.show()"
      ],
      "metadata": {
        "colab": {
          "base_uri": "https://localhost:8080/",
          "height": 468
        },
        "id": "d99JZNVeQpQh",
        "outputId": "727ecf93-19ee-4571-d78b-dc9f9a4817fb"
      },
      "execution_count": 54,
      "outputs": [
        {
          "output_type": "display_data",
          "data": {
            "text/plain": [
              "<Figure size 1000x500 with 2 Axes>"
            ],
            "image/png": "[encoded data removed]"
          },
          "metadata": {}
        }
      ]
    }
  ]
}