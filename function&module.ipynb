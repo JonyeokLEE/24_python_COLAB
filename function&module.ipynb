{
  "nbformat": 4,
  "nbformat_minor": 0,
  "metadata": {
    "colab": {
      "provenance": [],
      "authorship_tag": "ABX9TyNidHG+TTIpPA23XIPf/st5",
      "include_colab_link": true
    },
    "kernelspec": {
      "name": "python3",
      "display_name": "Python 3"
    },
    "language_info": {
      "name": "python"
    }
  },
  "cells": [
    {
      "cell_type": "markdown",
      "metadata": {
        "id": "view-in-github",
        "colab_type": "text"
      },
      "source": [
        "<a href=\"https://colab.research.google.com/github/JonyeokLEE/python_COLAB/blob/main/function%26module.ipynb\" target=\"_parent\"><img src=\"https://colab.research.google.com/assets/colab-badge.svg\" alt=\"Open In Colab\"/></a>"
      ]
    },
    {
      "cell_type": "code",
      "execution_count": 4,
      "metadata": {
        "colab": {
          "base_uri": "https://localhost:8080/"
        },
        "id": "lazFZ3lpOgnH",
        "outputId": "1da36e15-a898-434f-9c1a-9636a85d4f2e"
      },
      "outputs": [
        {
          "output_type": "execute_result",
          "data": {
            "text/plain": [
              "1.3817732906760363"
            ]
          },
          "metadata": {},
          "execution_count": 4
        }
      ],
      "source": [
        "import numpy as np\n",
        "\n",
        "#function -> def로 시작\n",
        "def sincos(x):\n",
        "  return np.sin(x)+np.cos(x)\n",
        "\n",
        "sincos(1)"
      ]
    },
    {
      "cell_type": "code",
      "source": [
        "sincos(2)"
      ],
      "metadata": {
        "colab": {
          "base_uri": "https://localhost:8080/"
        },
        "id": "SrF1UyfVO9Cj",
        "outputId": "4afd99ae-179f-4a77-840e-e8407fe4422e"
      },
      "execution_count": 5,
      "outputs": [
        {
          "output_type": "execute_result",
          "data": {
            "text/plain": [
              "0.4931505902785393"
            ]
          },
          "metadata": {},
          "execution_count": 5
        }
      ]
    },
    {
      "cell_type": "code",
      "source": [
        "sincos([1,2])"
      ],
      "metadata": {
        "colab": {
          "base_uri": "https://localhost:8080/"
        },
        "id": "hcZQeanjO-qF",
        "outputId": "983e9ed8-29d2-4bd0-95bb-974af4521bb4"
      },
      "execution_count": 6,
      "outputs": [
        {
          "output_type": "execute_result",
          "data": {
            "text/plain": [
              "array([1.38177329, 0.49315059])"
            ]
          },
          "metadata": {},
          "execution_count": 6
        }
      ]
    },
    {
      "cell_type": "code",
      "source": [
        "'''\n",
        "module -> 기능에 따라 파일을 별도로 만들어 전체적인 코드를 완성한다.\n",
        "별도의 파일을 생성하기 때문에 다른 업무에서 동일한 작업이 필요할 때 파일만 불러와서 사용할 수 있어 중복된 코드를 작성할 필요가 없다.\n",
        "이때 전역 변수, 함수 등을 포함한 별도의 파일을 모듈이라고 한다.\n",
        "'''\n"
      ],
      "metadata": {
        "id": "7EjkFxCwPCg3"
      },
      "execution_count": 6,
      "outputs": []
    }
  ]
}