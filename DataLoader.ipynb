{
  "nbformat": 4,
  "nbformat_minor": 0,
  "metadata": {
    "colab": {
      "provenance": [],
      "authorship_tag": "ABX9TyPF930zSwx+s5DyMd0gkcVX",
      "include_colab_link": true
    },
    "kernelspec": {
      "name": "python3",
      "display_name": "Python 3"
    },
    "language_info": {
      "name": "python"
    }
  },
  "cells": [
    {
      "cell_type": "markdown",
      "metadata": {
        "id": "view-in-github",
        "colab_type": "text"
      },
      "source": [
        "<a href=\"https://colab.research.google.com/github/JonyeokLEE/python_COLAB/blob/main/DataLoader.ipynb\" target=\"_parent\"><img src=\"https://colab.research.google.com/assets/colab-badge.svg\" alt=\"Open In Colab\"/></a>"
      ]
    },
    {
      "cell_type": "markdown",
      "source": [
        "하드웨어 성능 이슈로 인해 한 번에 전체 데이터를 모델에 주어 학습하기 힘들기 때문에 일반적으로 배치 형태의 묶음으로 데이터를 나누어 모델 학습에 이용\n",
        "데이터를 배치 형태로 만드는 법 + 데이터를 전처리하는 방법"
      ],
      "metadata": {
        "id": "7SnqAITKcal0"
      }
    },
    {
      "cell_type": "code",
      "execution_count": 4,
      "metadata": {
        "id": "L8lxSTmVbw1n"
      },
      "outputs": [],
      "source": [
        "import torch\n",
        "import torchvision # 이미지와 관련된 파이토치 라이브러리\n",
        "import torchvision.transforms as tr # 이미지 전처리 기능들을 제공하는 라이브러리\n",
        "from torch.utils.data import DataLoader, Dataset # 데이터를 모델에 사용할 수 있도록 정리해 주는 라이브러리\n",
        "import numpy as np\n",
        "import matplotlib.pyplot as plt"
      ]
    },
    {
      "cell_type": "code",
      "source": [
        "transf = tr.Compose([tr.Resize(16),tr.ToTensor()])\n",
        "trainset = torchvision.datasets.CIFAR10(root='./data', train = True, download = True, transform = transf)\n",
        "testset = torchvision.datasets.CIFAR10(root='./data', train = True, download = True, transform = transf)"
      ],
      "metadata": {
        "colab": {
          "base_uri": "https://localhost:8080/"
        },
        "id": "tUfkc9eEex3d",
        "outputId": "d026117c-7333-48dc-a38e-fa94b2e2b5d7"
      },
      "execution_count": 5,
      "outputs": [
        {
          "output_type": "stream",
          "name": "stdout",
          "text": [
            "Files already downloaded and verified\n",
            "Files already downloaded and verified\n"
          ]
        }
      ]
    },
    {
      "cell_type": "markdown",
      "source": [
        "tr.Compose 내에 원하는 전처리를 차례대로 넣어준다. 위 코드에서는 16x16으로 이미지 크기 변환 후 텐서 타입으로 변환한다."
      ],
      "metadata": {
        "id": "Y8Fk-XgXg9xC"
      }
    }
  ]
}