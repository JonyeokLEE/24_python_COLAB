{
  "nbformat": 4,
  "nbformat_minor": 0,
  "metadata": {
    "colab": {
      "provenance": [],
      "gpuType": "T4",
      "authorship_tag": "ABX9TyN1Er/LCwuCw+cwnRqTSwDB",
      "include_colab_link": true
    },
    "kernelspec": {
      "name": "python3",
      "display_name": "Python 3"
    },
    "language_info": {
      "name": "python"
    },
    "accelerator": "GPU"
  },
  "cells": [
    {
      "cell_type": "markdown",
      "metadata": {
        "id": "view-in-github",
        "colab_type": "text"
      },
      "source": [
        "<a href=\"https://colab.research.google.com/github/JonyeokLEE/python_COLAB/blob/main/regression_2.ipynb\" target=\"_parent\"><img src=\"https://colab.research.google.com/assets/colab-badge.svg\" alt=\"Open In Colab\"/></a>"
      ]
    },
    {
      "cell_type": "code",
      "source": [
        "import tensorflow as tf"
      ],
      "metadata": {
        "id": "s5eSt9GOd2vJ"
      },
      "execution_count": 51,
      "outputs": []
    },
    {
      "cell_type": "markdown",
      "source": [
        "보스턴 주택 가격 데이터세트를 이용한 주택 가격 예측 네트워크"
      ],
      "metadata": {
        "id": "JieSnzfjSHCh"
      }
    },
    {
      "cell_type": "code",
      "source": [
        "from tensorflow.keras.datasets import boston_housing\n",
        "(train_X, train_Y), (test_X, test_Y) = boston_housing.load_data()"
      ],
      "metadata": {
        "id": "rUpKvTFpSfX6"
      },
      "execution_count": 52,
      "outputs": []
    },
    {
      "cell_type": "code",
      "source": [
        "print(len(train_X), len(test_X))\n",
        "print(train_X[0])\n",
        "print(train_Y[0])"
      ],
      "metadata": {
        "colab": {
          "base_uri": "https://localhost:8080/"
        },
        "id": "hIVmNR2mS-ol",
        "outputId": "7a0b2d92-5c50-4d09-93d4-80ae03a73cda"
      },
      "execution_count": 53,
      "outputs": [
        {
          "output_type": "stream",
          "name": "stdout",
          "text": [
            "404 102\n",
            "[  1.23247   0.        8.14      0.        0.538     6.142    91.7\n",
            "   3.9769    4.      307.       21.      396.9      18.72   ]\n",
            "15.2\n"
          ]
        }
      ]
    },
    {
      "cell_type": "markdown",
      "source": [
        "Train Dataset: 404 / Test Dataset: 102\n",
        "\n",
        "각 데이터들은 단위가 다르다. 딥러닝에서는 이러한 데이터를 전처리해서 정규화(Standardization)해야 학습 효율이 좋다."
      ],
      "metadata": {
        "id": "rHH2OjDzTR94"
      }
    },
    {
      "cell_type": "markdown",
      "source": [
        "데이터를 정규화하려면 각 데이터에서 평균값으로 뺀 다음 표준편차로 나눈다.\n",
        "-> 데이터의 분포를 정규분포로 옮기는 역할을 한다."
      ],
      "metadata": {
        "id": "sIrcdKexUjVw"
      }
    },
    {
      "cell_type": "code",
      "source": [
        "# 데이터 전처리\n",
        "x_mean = train_X.mean(axis=0)\n",
        "x_std = train_X.std(axis=0)\n",
        "train_X -= x_mean\n",
        "train_X /= x_std\n",
        "test_X -= x_mean\n",
        "test_X /= x_std\n",
        "\n",
        "y_mean = train_Y.mean(axis=0)\n",
        "y_std = train_Y.std(axis=0)\n",
        "train_Y -= y_mean\n",
        "train_Y /= y_std\n",
        "test_Y -= y_mean\n",
        "test_Y /= y_std\n",
        "\n",
        "print(train_X[0])\n",
        "print(train_Y[0])"
      ],
      "metadata": {
        "colab": {
          "base_uri": "https://localhost:8080/"
        },
        "id": "GrHvdg-5Vais",
        "outputId": "41a50e77-b361-4126-b3b7-40705baf6df8"
      },
      "execution_count": 54,
      "outputs": [
        {
          "output_type": "stream",
          "name": "stdout",
          "text": [
            "[-0.27224633 -0.48361547 -0.43576161 -0.25683275 -0.1652266  -0.1764426\n",
            "  0.81306188  0.1166983  -0.62624905 -0.59517003  1.14850044  0.44807713\n",
            "  0.8252202 ]\n",
            "-0.7821526033779157\n"
          ]
        }
      ]
    },
    {
      "cell_type": "code",
      "source": [
        "#딥러닝 학습을 위한 회귀 모델 생성\n",
        "model = tf.keras.Sequential([\n",
        "    tf.keras.layers.Dense(units=52, activation='relu', input_shape=(13,)),\n",
        "    tf.keras.layers.Dense(units=39, activation='relu'),\n",
        "    tf.keras.layers.Dense(units=26, activation='relu'),\n",
        "    tf.keras.layers.Dense(units=1)\n",
        "])\n",
        "\n",
        "model.compile(optimizer=tf.keras.optimizers.Adam(lr=0.07), loss='mse')\n",
        "\n",
        "model.summary()"
      ],
      "metadata": {
        "colab": {
          "base_uri": "https://localhost:8080/"
        },
        "id": "4sELDZ39XRaK",
        "outputId": "0b8d486a-7e86-4a5e-b04d-6468e0d30236"
      },
      "execution_count": 55,
      "outputs": [
        {
          "output_type": "stream",
          "name": "stderr",
          "text": [
            "WARNING:absl:`lr` is deprecated in Keras optimizer, please use `learning_rate` or use the legacy optimizer, e.g.,tf.keras.optimizers.legacy.Adam.\n"
          ]
        },
        {
          "output_type": "stream",
          "name": "stdout",
          "text": [
            "Model: \"sequential_6\"\n",
            "_________________________________________________________________\n",
            " Layer (type)                Output Shape              Param #   \n",
            "=================================================================\n",
            " dense_24 (Dense)            (None, 52)                728       \n",
            "                                                                 \n",
            " dense_25 (Dense)            (None, 39)                2067      \n",
            "                                                                 \n",
            " dense_26 (Dense)            (None, 26)                1040      \n",
            "                                                                 \n",
            " dense_27 (Dense)            (None, 1)                 27        \n",
            "                                                                 \n",
            "=================================================================\n",
            "Total params: 3862 (15.09 KB)\n",
            "Trainable params: 3862 (15.09 KB)\n",
            "Non-trainable params: 0 (0.00 Byte)\n",
            "_________________________________________________________________\n"
          ]
        }
      ]
    },
    {
      "cell_type": "markdown",
      "source": [
        "지금처럼 여러 개의 Layor를 겹쳐서 사용할 때에는 sigmoid 함수나 tanh 함수보다 ReLu 함수가 더 better\n"
      ],
      "metadata": {
        "id": "k9Z5gwaoeDV5"
      }
    },
    {
      "cell_type": "code",
      "source": [
        "history = model.fit(train_X, train_Y, epochs = 25, batch_size = 32, validation_split=0.25)"
      ],
      "metadata": {
        "colab": {
          "base_uri": "https://localhost:8080/"
        },
        "id": "tsPP_ePWeNhR",
        "outputId": "70f31a9d-13fd-4d0c-c65a-0336d0a7c98d"
      },
      "execution_count": 56,
      "outputs": [
        {
          "output_type": "stream",
          "name": "stdout",
          "text": [
            "Epoch 1/25\n",
            "10/10 [==============================] - 2s 32ms/step - loss: 0.8566 - val_loss: 0.9850\n",
            "Epoch 2/25\n",
            "10/10 [==============================] - 0s 9ms/step - loss: 0.5453 - val_loss: 0.8049\n",
            "Epoch 3/25\n",
            "10/10 [==============================] - 0s 10ms/step - loss: 0.4076 - val_loss: 0.6863\n",
            "Epoch 4/25\n",
            "10/10 [==============================] - 0s 10ms/step - loss: 0.3249 - val_loss: 0.5452\n",
            "Epoch 5/25\n",
            "10/10 [==============================] - 0s 10ms/step - loss: 0.2572 - val_loss: 0.4494\n",
            "Epoch 6/25\n",
            "10/10 [==============================] - 0s 9ms/step - loss: 0.2190 - val_loss: 0.3877\n",
            "Epoch 7/25\n",
            "10/10 [==============================] - 0s 10ms/step - loss: 0.1907 - val_loss: 0.3459\n",
            "Epoch 8/25\n",
            "10/10 [==============================] - 0s 11ms/step - loss: 0.1732 - val_loss: 0.3147\n",
            "Epoch 9/25\n",
            "10/10 [==============================] - 0s 12ms/step - loss: 0.1553 - val_loss: 0.2909\n",
            "Epoch 10/25\n",
            "10/10 [==============================] - 0s 11ms/step - loss: 0.1478 - val_loss: 0.2696\n",
            "Epoch 11/25\n",
            "10/10 [==============================] - 0s 13ms/step - loss: 0.1292 - val_loss: 0.2553\n",
            "Epoch 12/25\n",
            "10/10 [==============================] - 0s 11ms/step - loss: 0.1194 - val_loss: 0.2379\n",
            "Epoch 13/25\n",
            "10/10 [==============================] - 0s 9ms/step - loss: 0.1120 - val_loss: 0.2297\n",
            "Epoch 14/25\n",
            "10/10 [==============================] - 0s 9ms/step - loss: 0.1040 - val_loss: 0.2168\n",
            "Epoch 15/25\n",
            "10/10 [==============================] - 0s 7ms/step - loss: 0.0980 - val_loss: 0.2117\n",
            "Epoch 16/25\n",
            "10/10 [==============================] - 0s 8ms/step - loss: 0.0933 - val_loss: 0.2014\n",
            "Epoch 17/25\n",
            "10/10 [==============================] - 0s 8ms/step - loss: 0.0901 - val_loss: 0.1868\n",
            "Epoch 18/25\n",
            "10/10 [==============================] - 0s 8ms/step - loss: 0.0846 - val_loss: 0.1844\n",
            "Epoch 19/25\n",
            "10/10 [==============================] - 0s 9ms/step - loss: 0.0797 - val_loss: 0.1855\n",
            "Epoch 20/25\n",
            "10/10 [==============================] - 0s 8ms/step - loss: 0.0783 - val_loss: 0.1779\n",
            "Epoch 21/25\n",
            "10/10 [==============================] - 0s 7ms/step - loss: 0.0748 - val_loss: 0.1760\n",
            "Epoch 22/25\n",
            "10/10 [==============================] - 0s 10ms/step - loss: 0.0740 - val_loss: 0.1688\n",
            "Epoch 23/25\n",
            "10/10 [==============================] - 0s 6ms/step - loss: 0.0704 - val_loss: 0.1763\n",
            "Epoch 24/25\n",
            "10/10 [==============================] - 0s 7ms/step - loss: 0.0680 - val_loss: 0.1674\n",
            "Epoch 25/25\n",
            "10/10 [==============================] - 0s 8ms/step - loss: 0.0662 - val_loss: 0.1647\n"
          ]
        }
      ]
    },
    {
      "cell_type": "code",
      "source": [
        "import matplotlib.pyplot as plt\n",
        "plt.plot(history.history['loss'], 'b-', label='loss')\n",
        "plt.plot(history.history['val_loss'], 'r--', label='val_loss')\n",
        "plt.xlabel('Epoch')\n",
        "plt.legend()\n",
        "plt.show()"
      ],
      "metadata": {
        "colab": {
          "base_uri": "https://localhost:8080/",
          "height": 449
        },
        "id": "HceAuzhhemUb",
        "outputId": "22608358-5030-4bb9-b2e2-ccd847df00d7"
      },
      "execution_count": 57,
      "outputs": [
        {
          "output_type": "display_data",
          "data": {
            "text/plain": [
              "<Figure size 640x480 with 1 Axes>"
            ],
            "image/png": "[encoded data removed]"
          },
          "metadata": {}
        }
      ]
    },
    {
      "cell_type": "code",
      "source": [
        "model.evaluate(test_X, test_Y)"
      ],
      "metadata": {
        "colab": {
          "base_uri": "https://localhost:8080/"
        },
        "id": "OE6RMEKDfeBq",
        "outputId": "c43c7a4c-e9d1-4b0c-acdb-6a5f63baf101"
      },
      "execution_count": 58,
      "outputs": [
        {
          "output_type": "stream",
          "name": "stdout",
          "text": [
            "4/4 [==============================] - 0s 4ms/step - loss: 0.1990\n"
          ]
        },
        {
          "output_type": "execute_result",
          "data": {
            "text/plain": [
              "0.19897128641605377"
            ]
          },
          "metadata": {},
          "execution_count": 58
        }
      ]
    },
    {
      "cell_type": "code",
      "source": [
        "# 실제 주택 가격과 예측 주택 가격 시각화\n",
        "import matplotlib.pyplot as plt\n",
        "\n",
        "pred_Y = model.predict(test_X)\n",
        "\n",
        "plt.figure(figsize=(5,5))\n",
        "plt.plot(test_Y, pred_Y, 'b.')\n",
        "plt.axis([min(test_Y), max(test_Y), min(test_Y), max(test_Y)])\n",
        "\n",
        "# y=x에 해당하는 대각선\n",
        "plt.plot([min(test_Y), max(test_Y)], [min(test_Y), max(test_Y)], ls=\"--\", c=\".3\")\n",
        "plt.xlabel('test_Y')\n",
        "plt.ylabel('pred_Y')\n",
        "\n",
        "plt.show()"
      ],
      "metadata": {
        "colab": {
          "base_uri": "https://localhost:8080/",
          "height": 488
        },
        "id": "sYNhhqqdgQ91",
        "outputId": "c5d486f9-b084-4082-99b1-428c162b0e27"
      },
      "execution_count": 59,
      "outputs": [
        {
          "output_type": "stream",
          "name": "stdout",
          "text": [
            "4/4 [==============================] - 0s 3ms/step\n"
          ]
        },
        {
          "output_type": "display_data",
          "data": {
            "text/plain": [
              "<Figure size 500x500 with 1 Axes>"
            ],
            "image/png": "[encoded data removed]"
          },
          "metadata": {}
        }
      ]
    }
  ]
}