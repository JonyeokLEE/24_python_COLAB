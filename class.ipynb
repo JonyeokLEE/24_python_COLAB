{
  "nbformat": 4,
  "nbformat_minor": 0,
  "metadata": {
    "colab": {
      "provenance": [],
      "authorship_tag": "ABX9TyNHhr6PW65VKvn00XPVY3b2",
      "include_colab_link": true
    },
    "kernelspec": {
      "name": "python3",
      "display_name": "Python 3"
    },
    "language_info": {
      "name": "python"
    }
  },
  "cells": [
    {
      "cell_type": "markdown",
      "metadata": {
        "id": "view-in-github",
        "colab_type": "text"
      },
      "source": [
        "<a href=\"https://colab.research.google.com/github/JonyeokLEE/python_COLAB/blob/main/class.ipynb\" target=\"_parent\"><img src=\"https://colab.research.google.com/assets/colab-badge.svg\" alt=\"Open In Colab\"/></a>"
      ]
    },
    {
      "cell_type": "code",
      "execution_count": 14,
      "metadata": {
        "id": "rDO0IVhMQEgk"
      },
      "outputs": [],
      "source": [
        "import numpy as np\n",
        "\n",
        "class DataPreprocessing:\n",
        "  def __init__(self, data, target):\n",
        "    self.data=data\n",
        "    self.target=target\n",
        "    self.num_instances=self.data.shape[0]\n",
        "    self.num_features=self.data.shape[1]\n",
        "  def minmax(self):\n",
        "    for i in range(self.num_features):\n",
        "      col = self.data[:,i]\n",
        "      self.data[:,i] = (self.data[:,i]-np.min(col))/(np.max(col)-np.min(col))\n",
        "    return self\n",
        "  def normalization(self):\n",
        "    for i in range(self.num_features):\n",
        "      col = self.data[:,i]\n",
        "      mu, sigma = np.mean(col),np.std(col)\n",
        "      self.data[:,i] = (self.data[:,i]-mu)/sigma\n",
        "    return self\n",
        "  def scaler(self, scaling=None):\n",
        "    if scaling=='minmax':\n",
        "      self.minmax()\n",
        "    elif scaling=='standard':\n",
        "      self.normalization\n",
        "    else:\n",
        "      pass\n",
        "    return self.data"
      ]
    },
    {
      "cell_type": "code",
      "source": [
        "data=np.random.normal(0,10,(5,5))\n",
        "target = np.random.normal(0,1,5)\n",
        "print(data)"
      ],
      "metadata": {
        "colab": {
          "base_uri": "https://localhost:8080/"
        },
        "id": "Iu5HnRqwYjKU",
        "outputId": "bfd73407-dba4-471f-be62-928eba2f6cd9"
      },
      "execution_count": 15,
      "outputs": [
        {
          "output_type": "stream",
          "name": "stdout",
          "text": [
            "[[-29.00916959  12.20810361  -9.63161528  17.57301796   3.8634431 ]\n",
            " [ 11.40489106  -7.41959521   3.583076    12.68077222  -1.18186   ]\n",
            " [ -5.15249681  -1.41082479  -2.28454808   4.6229363   -6.64303742]\n",
            " [  2.04579794  -6.98394145 -15.26944959   0.63591416  -3.50060179]\n",
            " [ 11.95810079 -20.89313152   2.58619099  -2.09980803  -0.34794082]]\n"
          ]
        }
      ]
    },
    {
      "cell_type": "code",
      "source": [
        "data_processor = DataPreprocessing(data,target)\n",
        "data = data_processor.scaler('minmax')\n",
        "print(data)"
      ],
      "metadata": {
        "colab": {
          "base_uri": "https://localhost:8080/"
        },
        "id": "qhK5VNF3YtzH",
        "outputId": "3f58b9b8-e0e1-4aaf-b535-02c93b1392d9"
      },
      "execution_count": 16,
      "outputs": [
        {
          "output_type": "stream",
          "name": "stdout",
          "text": [
            "[[0.         1.         0.29904929 1.         1.        ]\n",
            " [0.9864963  0.40704029 1.         0.75131963 0.51979132]\n",
            " [0.58233494 0.58856736 0.68876191 0.34172743 0.        ]\n",
            " [0.75804337 0.42020154 0.         0.13906097 0.29909498]\n",
            " [1.         0.         0.94712194 0.         0.59916321]]\n"
          ]
        }
      ]
    },
    {
      "cell_type": "code",
      "source": [
        "class DataPipeline(DataPreprocessing): #상속\n",
        "  def __init__(self,data):\n",
        "    self.data=data\n",
        "    self.num_features=self.data.shape[1]\n",
        "pipe = DataPipeline(data)\n",
        "data = pipe.scaler(\"minmax\")"
      ],
      "metadata": {
        "id": "xe_ZOQpSZYFa"
      },
      "execution_count": 17,
      "outputs": []
    }
  ]
}