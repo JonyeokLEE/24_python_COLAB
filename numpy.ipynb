{
  "nbformat": 4,
  "nbformat_minor": 0,
  "metadata": {
    "colab": {
      "provenance": [],
      "authorship_tag": "ABX9TyNl8wWD8Q4lKasmZ8CeQtry",
      "include_colab_link": true
    },
    "kernelspec": {
      "name": "python3",
      "display_name": "Python 3"
    },
    "language_info": {
      "name": "python"
    }
  },
  "cells": [
    {
      "cell_type": "markdown",
      "metadata": {
        "id": "view-in-github",
        "colab_type": "text"
      },
      "source": [
        "<a href=\"https://colab.research.google.com/github/JonyeokLEE/python_COLAB/blob/main/numpy.ipynb\" target=\"_parent\"><img src=\"https://colab.research.google.com/assets/colab-badge.svg\" alt=\"Open In Colab\"/></a>"
      ]
    },
    {
      "cell_type": "code",
      "execution_count": 215,
      "metadata": {
        "id": "oeCVAQpt_jD4"
      },
      "outputs": [],
      "source": [
        "import numpy as np\n",
        "a=np.array([1,5,0,-1]) #1차원\n",
        "b=np.ones((2,2,2)) #모든 성분이 실수형 1, 2x2x2 3차원 배열\n",
        "c=np.zeros((2,3)) #모든 성분이 실수형 0, 2x3 2차원 배열\n",
        "d=np.arange(10) #0부터 9까지 10개의 실수가 나열된 1차원 배열\n",
        "e=np.linspace(0,10,5) #0과 10을 양 끝 성분으로 취하고 배열의 크기가 5가 되게 하는 등차수열 성분을 나열한 1차원 배열\n",
        "f=np.random.randint(2,10,5) #2 이상 10 미만의 정수 중 중복을 허용하여 5개를 뽑아 만든 1차원 배열"
      ]
    },
    {
      "cell_type": "code",
      "source": [
        "a"
      ],
      "metadata": {
        "colab": {
          "base_uri": "https://localhost:8080/"
        },
        "id": "kDLrpWDoC6rB",
        "outputId": "6e22bfca-a537-4117-cfe0-4a3d7e61ea50"
      },
      "execution_count": 216,
      "outputs": [
        {
          "output_type": "execute_result",
          "data": {
            "text/plain": [
              "array([ 1,  5,  0, -1])"
            ]
          },
          "metadata": {},
          "execution_count": 216
        }
      ]
    },
    {
      "cell_type": "code",
      "source": [
        "b"
      ],
      "metadata": {
        "colab": {
          "base_uri": "https://localhost:8080/"
        },
        "id": "kw3wkUWxC_E7",
        "outputId": "4ac66686-8d05-451f-bad7-d64988c9246e"
      },
      "execution_count": 217,
      "outputs": [
        {
          "output_type": "execute_result",
          "data": {
            "text/plain": [
              "array([[[1., 1.],\n",
              "        [1., 1.]],\n",
              "\n",
              "       [[1., 1.],\n",
              "        [1., 1.]]])"
            ]
          },
          "metadata": {},
          "execution_count": 217
        }
      ]
    },
    {
      "cell_type": "code",
      "source": [
        "c"
      ],
      "metadata": {
        "colab": {
          "base_uri": "https://localhost:8080/"
        },
        "id": "s6ej2iE3DBsw",
        "outputId": "7ad91211-8aaf-4a75-ef81-17d181cca233"
      },
      "execution_count": 218,
      "outputs": [
        {
          "output_type": "execute_result",
          "data": {
            "text/plain": [
              "array([[0., 0., 0.],\n",
              "       [0., 0., 0.]])"
            ]
          },
          "metadata": {},
          "execution_count": 218
        }
      ]
    },
    {
      "cell_type": "code",
      "source": [
        "d"
      ],
      "metadata": {
        "colab": {
          "base_uri": "https://localhost:8080/"
        },
        "id": "IPV07ZBbDDII",
        "outputId": "b288dffc-6ab7-4a26-8550-68451ca820b2"
      },
      "execution_count": 219,
      "outputs": [
        {
          "output_type": "execute_result",
          "data": {
            "text/plain": [
              "array([0, 1, 2, 3, 4, 5, 6, 7, 8, 9])"
            ]
          },
          "metadata": {},
          "execution_count": 219
        }
      ]
    },
    {
      "cell_type": "code",
      "source": [
        "e"
      ],
      "metadata": {
        "colab": {
          "base_uri": "https://localhost:8080/"
        },
        "id": "yTFpN3szDFC7",
        "outputId": "e7235bc0-7f5d-4d2a-c9d1-f0bd1fe70af7"
      },
      "execution_count": 220,
      "outputs": [
        {
          "output_type": "execute_result",
          "data": {
            "text/plain": [
              "array([ 0. ,  2.5,  5. ,  7.5, 10. ])"
            ]
          },
          "metadata": {},
          "execution_count": 220
        }
      ]
    },
    {
      "cell_type": "code",
      "source": [
        "f"
      ],
      "metadata": {
        "colab": {
          "base_uri": "https://localhost:8080/"
        },
        "id": "4uN0EvLcDHlW",
        "outputId": "9a10e62e-ce80-4db6-f663-e86186a77c1d"
      },
      "execution_count": 221,
      "outputs": [
        {
          "output_type": "execute_result",
          "data": {
            "text/plain": [
              "array([9, 5, 9, 7, 8])"
            ]
          },
          "metadata": {},
          "execution_count": 221
        }
      ]
    },
    {
      "cell_type": "code",
      "source": [
        "c.shape #shape은 크기를 알 수 있음 -> c는 2X3"
      ],
      "metadata": {
        "colab": {
          "base_uri": "https://localhost:8080/"
        },
        "id": "DqtKCogTDQvg",
        "outputId": "6bdf412d-ef28-43ee-abab-9eb12d2087ec"
      },
      "execution_count": 222,
      "outputs": [
        {
          "output_type": "execute_result",
          "data": {
            "text/plain": [
              "(2, 3)"
            ]
          },
          "metadata": {},
          "execution_count": 222
        }
      ]
    },
    {
      "cell_type": "code",
      "source": [
        "len(c) #배열의 차원 중 첫번째 크기"
      ],
      "metadata": {
        "colab": {
          "base_uri": "https://localhost:8080/"
        },
        "id": "uivCqoA9DaWR",
        "outputId": "bf89aa6d-5794-4bb9-c0d4-b83afb3f5a18"
      },
      "execution_count": 223,
      "outputs": [
        {
          "output_type": "execute_result",
          "data": {
            "text/plain": [
              "2"
            ]
          },
          "metadata": {},
          "execution_count": 223
        }
      ]
    },
    {
      "cell_type": "code",
      "source": [
        "c.ndim #배열의 차원을 나타냄. 즉, shape의 크기"
      ],
      "metadata": {
        "colab": {
          "base_uri": "https://localhost:8080/"
        },
        "id": "DnygvjbNDc15",
        "outputId": "642c577d-d54c-46da-d035-a6ca3afdd980"
      },
      "execution_count": 224,
      "outputs": [
        {
          "output_type": "execute_result",
          "data": {
            "text/plain": [
              "2"
            ]
          },
          "metadata": {},
          "execution_count": 224
        }
      ]
    },
    {
      "cell_type": "code",
      "source": [
        "c.dtype #배열 내 성분의 타입"
      ],
      "metadata": {
        "colab": {
          "base_uri": "https://localhost:8080/"
        },
        "id": "7PDWTba-DkvG",
        "outputId": "64c73def-3cd1-461a-af72-61f3d61d624c"
      },
      "execution_count": 225,
      "outputs": [
        {
          "output_type": "execute_result",
          "data": {
            "text/plain": [
              "dtype('float64')"
            ]
          },
          "metadata": {},
          "execution_count": 225
        }
      ]
    },
    {
      "cell_type": "code",
      "source": [
        "c.reshape(1,6)"
      ],
      "metadata": {
        "colab": {
          "base_uri": "https://localhost:8080/"
        },
        "id": "rj4GVz6iEmaF",
        "outputId": "4e27bc50-5859-46e2-b24d-646918882b53"
      },
      "execution_count": 226,
      "outputs": [
        {
          "output_type": "execute_result",
          "data": {
            "text/plain": [
              "array([[0., 0., 0., 0., 0., 0.]])"
            ]
          },
          "metadata": {},
          "execution_count": 226
        }
      ]
    },
    {
      "cell_type": "code",
      "source": [
        "#조건문을 이용한 인덱스 검색\n",
        "\n",
        "mu = 0 #평균\n",
        "sigma = 1 #표준편차\n",
        "arr = np.random.normal(mu,sigma, (5,3)) #5X3 배열\n",
        "arr\n",
        "#평균 0, 표준편차 1인 정규분표를 따르는 5X3 배열"
      ],
      "metadata": {
        "colab": {
          "base_uri": "https://localhost:8080/"
        },
        "id": "1fnDksCqE1Lh",
        "outputId": "9337a50e-f5bf-4c8b-845b-2db06289d8bd"
      },
      "execution_count": 227,
      "outputs": [
        {
          "output_type": "execute_result",
          "data": {
            "text/plain": [
              "array([[ 1.24250517,  1.55631628, -0.43124295],\n",
              "       [-0.58510308, -0.24215563,  0.67836305],\n",
              "       [-0.37545391,  1.96053157,  0.15093129],\n",
              "       [-0.87812019,  0.76222585,  1.09708446],\n",
              "       [-0.37065689, -0.81726781,  0.59597412]])"
            ]
          },
          "metadata": {},
          "execution_count": 227
        }
      ]
    },
    {
      "cell_type": "code",
      "source": [
        "np.where(abs(arr)>sigma, \"out\",\"in\")\n",
        "#해당 값의 절댓값이 표준편차보다 크면 out, 그렇지 않으면 in"
      ],
      "metadata": {
        "colab": {
          "base_uri": "https://localhost:8080/"
        },
        "id": "BU8zrOiyF9y7",
        "outputId": "38d6e02b-693e-4383-a16a-ffa6e8fa1c7d"
      },
      "execution_count": 228,
      "outputs": [
        {
          "output_type": "execute_result",
          "data": {
            "text/plain": [
              "array([['out', 'out', 'in'],\n",
              "       ['in', 'in', 'in'],\n",
              "       ['in', 'out', 'in'],\n",
              "       ['in', 'in', 'out'],\n",
              "       ['in', 'in', 'in']], dtype='<U3')"
            ]
          },
          "metadata": {},
          "execution_count": 228
        }
      ]
    },
    {
      "cell_type": "code",
      "source": [
        "np.where(abs(arr)>sigma) #반환값을 설정하지 않으면 해당 인덱스를 산출"
      ],
      "metadata": {
        "colab": {
          "base_uri": "https://localhost:8080/"
        },
        "id": "31dHw-2mG1SB",
        "outputId": "9c3fec1e-f84c-4f25-a358-d42fdf4f3a04"
      },
      "execution_count": 229,
      "outputs": [
        {
          "output_type": "execute_result",
          "data": {
            "text/plain": [
              "(array([0, 0, 2, 3]), array([0, 1, 1, 2]))"
            ]
          },
          "metadata": {},
          "execution_count": 229
        }
      ]
    },
    {
      "cell_type": "code",
      "source": [
        "a= np.array([[1,3],[0,-1]])\n",
        "b=np.random.randint(0,10,4).reshape(2,2)\n",
        "a+b"
      ],
      "metadata": {
        "colab": {
          "base_uri": "https://localhost:8080/"
        },
        "id": "2yZtNBZ9HyYY",
        "outputId": "9ac0073d-1f09-445c-d680-f89d2f208c30"
      },
      "execution_count": 230,
      "outputs": [
        {
          "output_type": "execute_result",
          "data": {
            "text/plain": [
              "array([[ 1, 12],\n",
              "       [ 9,  2]])"
            ]
          },
          "metadata": {},
          "execution_count": 230
        }
      ]
    },
    {
      "cell_type": "code",
      "source": [
        "a-b"
      ],
      "metadata": {
        "colab": {
          "base_uri": "https://localhost:8080/"
        },
        "id": "9C9-dK-pI3yS",
        "outputId": "51268d25-e52b-4a89-94ce-da47f7f33b00"
      },
      "execution_count": 231,
      "outputs": [
        {
          "output_type": "execute_result",
          "data": {
            "text/plain": [
              "array([[ 1, -6],\n",
              "       [-9, -4]])"
            ]
          },
          "metadata": {},
          "execution_count": 231
        }
      ]
    },
    {
      "cell_type": "code",
      "source": [
        "a*b"
      ],
      "metadata": {
        "colab": {
          "base_uri": "https://localhost:8080/"
        },
        "id": "eU10hOucI4u4",
        "outputId": "2da746aa-8b1e-4d36-d4a9-03d2ba370f5b"
      },
      "execution_count": 232,
      "outputs": [
        {
          "output_type": "execute_result",
          "data": {
            "text/plain": [
              "array([[ 0, 27],\n",
              "       [ 0, -3]])"
            ]
          },
          "metadata": {},
          "execution_count": 232
        }
      ]
    },
    {
      "cell_type": "code",
      "source": [
        "a**b"
      ],
      "metadata": {
        "colab": {
          "base_uri": "https://localhost:8080/"
        },
        "id": "xNPQ1sw_I6CK",
        "outputId": "2ce274b8-95fc-4031-c16f-d9bcda7c7c50"
      },
      "execution_count": 233,
      "outputs": [
        {
          "output_type": "execute_result",
          "data": {
            "text/plain": [
              "array([[    1, 19683],\n",
              "       [    0,    -1]])"
            ]
          },
          "metadata": {},
          "execution_count": 233
        }
      ]
    },
    {
      "cell_type": "code",
      "source": [
        "2*a"
      ],
      "metadata": {
        "colab": {
          "base_uri": "https://localhost:8080/"
        },
        "id": "Fc3mAVHaI8DX",
        "outputId": "01670c86-53aa-4918-ded5-fcdbd443786f"
      },
      "execution_count": 234,
      "outputs": [
        {
          "output_type": "execute_result",
          "data": {
            "text/plain": [
              "array([[ 2,  6],\n",
              "       [ 0, -2]])"
            ]
          },
          "metadata": {},
          "execution_count": 234
        }
      ]
    },
    {
      "cell_type": "code",
      "source": [
        "a-1"
      ],
      "metadata": {
        "colab": {
          "base_uri": "https://localhost:8080/"
        },
        "id": "lN97Tz09I9fQ",
        "outputId": "5e3fc0e6-8d71-4b5e-c289-cadd48ed3941"
      },
      "execution_count": 235,
      "outputs": [
        {
          "output_type": "execute_result",
          "data": {
            "text/plain": [
              "array([[ 0,  2],\n",
              "       [-1, -2]])"
            ]
          },
          "metadata": {},
          "execution_count": 235
        }
      ]
    },
    {
      "cell_type": "code",
      "source": [
        "np.matmul(a,b) #행렬 곱"
      ],
      "metadata": {
        "colab": {
          "base_uri": "https://localhost:8080/"
        },
        "id": "BDvbUUljI-Xp",
        "outputId": "d496c37b-7eb6-4479-a180-9619254ead92"
      },
      "execution_count": 236,
      "outputs": [
        {
          "output_type": "execute_result",
          "data": {
            "text/plain": [
              "array([[27, 18],\n",
              "       [-9, -3]])"
            ]
          },
          "metadata": {},
          "execution_count": 236
        }
      ]
    },
    {
      "cell_type": "code",
      "source": [
        "#concatenate 함수는 배열 병합 함수"
      ],
      "metadata": {
        "id": "LHH4hs0UJObB"
      },
      "execution_count": 237,
      "outputs": []
    }
  ]
}